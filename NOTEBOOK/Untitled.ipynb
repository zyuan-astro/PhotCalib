{
 "cells": [
  {
   "cell_type": "code",
   "execution_count": 1,
   "id": "ed8b40e8-5e8d-46cd-b085-d02828bf6dc3",
   "metadata": {},
   "outputs": [
    {
     "ename": "ModuleNotFoundError",
     "evalue": "No module named 'deform_norm'",
     "output_type": "error",
     "traceback": [
      "\u001b[0;31m---------------------------------------------------------------------------\u001b[0m",
      "\u001b[0;31mModuleNotFoundError\u001b[0m                       Traceback (most recent call last)",
      "\u001b[0;32m/var/folders/6g/bpptq3jn7bq5vn11krchdfch0000gp/T/ipykernel_41062/4245790299.py\u001b[0m in \u001b[0;36m<module>\u001b[0;34m\u001b[0m\n\u001b[1;32m     10\u001b[0m \u001b[0;34m\u001b[0m\u001b[0m\n\u001b[1;32m     11\u001b[0m \u001b[0;34m\u001b[0m\u001b[0m\n\u001b[0;32m---> 12\u001b[0;31m \u001b[0;32mfrom\u001b[0m \u001b[0mmakeplots\u001b[0m \u001b[0;32mimport\u001b[0m \u001b[0;34m*\u001b[0m\u001b[0;34m\u001b[0m\u001b[0;34m\u001b[0m\u001b[0m\n\u001b[0m\u001b[1;32m     13\u001b[0m \u001b[0;32mfrom\u001b[0m \u001b[0mmodel_old\u001b[0m \u001b[0;32mimport\u001b[0m \u001b[0;34m*\u001b[0m\u001b[0;34m\u001b[0m\u001b[0;34m\u001b[0m\u001b[0m\n\u001b[1;32m     14\u001b[0m \u001b[0;34m\u001b[0m\u001b[0m\n",
      "\u001b[0;32m~/Dropbox/Mac (2)/Documents/GitHub/PhotCalib/NOTEBOOK/../SCRIPT/makeplots.py\u001b[0m in \u001b[0;36m<module>\u001b[0;34m\u001b[0m\n\u001b[1;32m     11\u001b[0m \u001b[0;32mimport\u001b[0m \u001b[0mnumpy\u001b[0m \u001b[0;32mas\u001b[0m \u001b[0mnp\u001b[0m\u001b[0;34m\u001b[0m\u001b[0;34m\u001b[0m\u001b[0m\n\u001b[1;32m     12\u001b[0m \u001b[0;34m\u001b[0m\u001b[0m\n\u001b[0;32m---> 13\u001b[0;31m \u001b[0;32mfrom\u001b[0m \u001b[0mdeform_norm\u001b[0m \u001b[0;32mimport\u001b[0m \u001b[0;34m*\u001b[0m\u001b[0;34m\u001b[0m\u001b[0;34m\u001b[0m\u001b[0m\n\u001b[0m\u001b[1;32m     14\u001b[0m \u001b[0;32mfrom\u001b[0m \u001b[0mmodel_old\u001b[0m \u001b[0;32mimport\u001b[0m \u001b[0;34m*\u001b[0m\u001b[0;34m\u001b[0m\u001b[0;34m\u001b[0m\u001b[0m\n\u001b[1;32m     15\u001b[0m \u001b[0;34m\u001b[0m\u001b[0m\n",
      "\u001b[0;31mModuleNotFoundError\u001b[0m: No module named 'deform_norm'"
     ]
    }
   ],
   "source": [
    "import os\n",
    "import sys\n",
    "import glob\n",
    "\n",
    "from math import *\n",
    "from matplotlib.pyplot import *\n",
    "import pandas as pd\n",
    "import numpy as np\n",
    "sys.path.append(\"../SCRIPT/\")\n",
    "\n",
    "\n",
    "from makeplots import *\n",
    "from model_old import *\n",
    "\n",
    "\n",
    "import torch\n",
    "import torch.nn.functional as F\n",
    "from torch.optim.lr_scheduler import * \n",
    "\n"
   ]
  },
  {
   "cell_type": "code",
   "execution_count": 2,
   "id": "38e7a118-ad80-4e28-b6d7-b81aa630b8d3",
   "metadata": {},
   "outputs": [
    {
     "name": "stdout",
     "output_type": "stream",
     "text": [
      "['17Am05']\n"
     ]
    }
   ],
   "source": [
    "in_path = \"../INPUT/\"\n",
    "\n",
    "\n",
    "files = glob.glob(in_path+\"*_err_0.1.npy\", recursive = True)\n",
    "files.sort()\n",
    "\n",
    "run_list = []\n",
    "for file in files:\n",
    "    \n",
    "    run_list.append(file.split(\"_\")[-3].split(\".npy\")[0])\n",
    "        \n",
    "print (run_list)\n"
   ]
  },
  {
   "cell_type": "code",
   "execution_count": 4,
   "id": "e78d8a44-e4f6-4c79-904f-742bbb8fa4fd",
   "metadata": {},
   "outputs": [
    {
     "name": "stdout",
     "output_type": "stream",
     "text": [
      "0 17Am05\n"
     ]
    }
   ],
   "source": [
    "\n",
    "\n",
    "for i, run in enumerate(run_list):\n",
    "    \n",
    "       \n",
    "    print (i, run)\n",
    "    \n",
    "    break\n",
    "    inputs = np.load(in_path+'inputs_%s_err_0.1.npy'%run)\n",
    "\n",
    "    run_model = run_list[i]\n",
    "    calib_zpt(run, inputs)\n",
    "    makeplots(run, inputs)\n",
    "    \n"
   ]
  },
  {
   "cell_type": "code",
   "execution_count": null,
   "id": "7d495c21-c674-4111-8efc-1731523d1c1a",
   "metadata": {},
   "outputs": [],
   "source": []
  }
 ],
 "metadata": {
  "kernelspec": {
   "display_name": "Python 3 (ipykernel)",
   "language": "python",
   "name": "python3"
  },
  "language_info": {
   "codemirror_mode": {
    "name": "ipython",
    "version": 3
   },
   "file_extension": ".py",
   "mimetype": "text/x-python",
   "name": "python",
   "nbconvert_exporter": "python",
   "pygments_lexer": "ipython3",
   "version": "3.9.13"
  }
 },
 "nbformat": 4,
 "nbformat_minor": 5
}
